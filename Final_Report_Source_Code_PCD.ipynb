{
  "nbformat": 4,
  "nbformat_minor": 0,
  "metadata": {
    "colab": {
      "provenance": []
    },
    "kernelspec": {
      "name": "python3",
      "display_name": "Python 3"
    },
    "language_info": {
      "name": "python"
    }
  },
  "cells": [
    {
      "cell_type": "code",
      "execution_count": 36,
      "metadata": {
        "id": "SlwzLMohTB32"
      },
      "outputs": [],
      "source": [
        "import cv2\n",
        "import numpy as np\n",
        "from matplotlib import pyplot as plt\n",
        "from sklearn.model_selection import train_test_split\n",
        "from sklearn.svm import SVC\n",
        "from sklearn.metrics import accuracy_score, precision_score, recall_score, confusion_matrix"
      ]
    },
    {
      "cell_type": "code",
      "source": [
        "def extract_features(image):\n",
        "    gray = cv2.cvtColor(image, cv2.COLOR_BGR2GRAY)\n",
        "    hist = cv2.calcHist([gray], [0], None, [256], [0, 256])\n",
        "    hist = hist.flatten()\n",
        "    return hist"
      ],
      "metadata": {
        "id": "Uz0p3GaxTbZm"
      },
      "execution_count": 37,
      "outputs": []
    },
    {
      "cell_type": "code",
      "source": [
        "def load_dataset():\n",
        "    images = []\n",
        "    labels = []\n",
        "    dataset_dir = '/content/BUAH_KLASIFIKASI.zip'\n",
        "    for i in range(1, 6):\n",
        "        for j in range(1, 21):\n",
        "            image_path = dataset_dir + '/tingkat' + str(i) + '/buah' + str(j) + '.jpg'\n",
        "\n",
        "            # Check if the image is loaded successfully\n",
        "            image = cv2.imread(image_path)\n",
        "            if image is None:\n",
        "                print(f\"Error: Could not load image at {image_path}\")\n",
        "                continue  # Skip to the next image if loading fails\n",
        "\n",
        "            feature = extract_features(image)\n",
        "            images.append(feature)\n",
        "            labels.append(i)\n",
        "\n",
        "    return images, labels"
      ],
      "metadata": {
        "id": "6ID2_QgUyvBE"
      },
      "execution_count": 44,
      "outputs": []
    },
    {
      "cell_type": "code",
      "source": [
        "def split_dataset(images, labels):\n",
        "    X_train, X_test, y_train, y_test = train_test_split(images, labels, test_size=0.2, random_state=42)\n",
        "    return X_train, X_test, y_train, y_test"
      ],
      "metadata": {
        "id": "vKtw-W1gy07S"
      },
      "execution_count": 45,
      "outputs": []
    },
    {
      "cell_type": "code",
      "source": [
        "def train_model(X_train, y_train):\n",
        "    svm = SVC(kernel='linear')\n",
        "    svm.fit(X_train, y_train)\n",
        "    return svm"
      ],
      "metadata": {
        "id": "phonodK9y22X"
      },
      "execution_count": 46,
      "outputs": []
    },
    {
      "cell_type": "code",
      "source": [
        "def evaluate_model(model, X_test, y_test):\n",
        "    y_pred = model.predict(X_test)\n",
        "    accuracy = accuracy_score(y_test, y_pred)\n",
        "    precision = precision_score(y_test, y_pred, average='weighted')\n",
        "    recall = recall_score(y_test, y_pred, average='weighted')\n",
        "    confusion = confusion_matrix(y_test, y_pred)\n",
        "    return accuracy, precision, recall, confusion, y_pred"
      ],
      "metadata": {
        "id": "OyYLYbiTy4gh"
      },
      "execution_count": 47,
      "outputs": []
    },
    {
      "cell_type": "code",
      "source": [
        "def plot_histogram(accuracy, precision, recall, y_pred):\n",
        "    labels = ['Akurasi', 'Presisi', 'Recall']\n",
        "    values = [accuracy, precision, recall]\n",
        "\n",
        "    plt.subplot(1, 2, 1)\n",
        "    plt.bar(labels, values)\n",
        "    plt.ylabel('Nilai')\n",
        "    plt.title('Metrik Evaluasi')\n",
        "\n",
        "    plt.subplot(1, 2, 2)\n",
        "    plt.hist(y_pred, bins=np.arange(1, 7)-0.5, edgecolor='black', alpha=0.8)\n",
        "    plt.xticks(range(1, 6))\n",
        "    plt.xlabel('Tingkat Kematangan')\n",
        "    plt.ylabel('Frekuensi')\n",
        "    plt.title('Tingkat Kematangan Buah (Hasil Prediksi)')\n",
        "\n",
        "    plt.tight_layout()\n",
        "    plt.show()"
      ],
      "metadata": {
        "id": "DBpuMUwUy7Mo"
      },
      "execution_count": 48,
      "outputs": []
    },
    {
      "cell_type": "code",
      "source": [
        "images, labels = load_dataset()"
      ],
      "metadata": {
        "id": "5jiVgrnby9Uf",
        "colab": {
          "base_uri": "https://localhost:8080/"
        },
        "outputId": "b69019c0-eb52-47b2-e002-68affc90cf8a"
      },
      "execution_count": 49,
      "outputs": [
        {
          "output_type": "stream",
          "name": "stdout",
          "text": [
            "Error: Could not load image at /content/BUAH_KLASIFIKASI.zip/tingkat1/buah1.jpg\n",
            "Error: Could not load image at /content/BUAH_KLASIFIKASI.zip/tingkat1/buah2.jpg\n",
            "Error: Could not load image at /content/BUAH_KLASIFIKASI.zip/tingkat1/buah3.jpg\n",
            "Error: Could not load image at /content/BUAH_KLASIFIKASI.zip/tingkat1/buah4.jpg\n",
            "Error: Could not load image at /content/BUAH_KLASIFIKASI.zip/tingkat1/buah5.jpg\n",
            "Error: Could not load image at /content/BUAH_KLASIFIKASI.zip/tingkat1/buah6.jpg\n",
            "Error: Could not load image at /content/BUAH_KLASIFIKASI.zip/tingkat1/buah7.jpg\n",
            "Error: Could not load image at /content/BUAH_KLASIFIKASI.zip/tingkat1/buah8.jpg\n",
            "Error: Could not load image at /content/BUAH_KLASIFIKASI.zip/tingkat1/buah9.jpg\n",
            "Error: Could not load image at /content/BUAH_KLASIFIKASI.zip/tingkat1/buah10.jpg\n",
            "Error: Could not load image at /content/BUAH_KLASIFIKASI.zip/tingkat1/buah11.jpg\n",
            "Error: Could not load image at /content/BUAH_KLASIFIKASI.zip/tingkat1/buah12.jpg\n",
            "Error: Could not load image at /content/BUAH_KLASIFIKASI.zip/tingkat1/buah13.jpg\n",
            "Error: Could not load image at /content/BUAH_KLASIFIKASI.zip/tingkat1/buah14.jpg\n",
            "Error: Could not load image at /content/BUAH_KLASIFIKASI.zip/tingkat1/buah15.jpg\n",
            "Error: Could not load image at /content/BUAH_KLASIFIKASI.zip/tingkat1/buah16.jpg\n",
            "Error: Could not load image at /content/BUAH_KLASIFIKASI.zip/tingkat1/buah17.jpg\n",
            "Error: Could not load image at /content/BUAH_KLASIFIKASI.zip/tingkat1/buah18.jpg\n",
            "Error: Could not load image at /content/BUAH_KLASIFIKASI.zip/tingkat1/buah19.jpg\n",
            "Error: Could not load image at /content/BUAH_KLASIFIKASI.zip/tingkat1/buah20.jpg\n",
            "Error: Could not load image at /content/BUAH_KLASIFIKASI.zip/tingkat2/buah1.jpg\n",
            "Error: Could not load image at /content/BUAH_KLASIFIKASI.zip/tingkat2/buah2.jpg\n",
            "Error: Could not load image at /content/BUAH_KLASIFIKASI.zip/tingkat2/buah3.jpg\n",
            "Error: Could not load image at /content/BUAH_KLASIFIKASI.zip/tingkat2/buah4.jpg\n",
            "Error: Could not load image at /content/BUAH_KLASIFIKASI.zip/tingkat2/buah5.jpg\n",
            "Error: Could not load image at /content/BUAH_KLASIFIKASI.zip/tingkat2/buah6.jpg\n",
            "Error: Could not load image at /content/BUAH_KLASIFIKASI.zip/tingkat2/buah7.jpg\n",
            "Error: Could not load image at /content/BUAH_KLASIFIKASI.zip/tingkat2/buah8.jpg\n",
            "Error: Could not load image at /content/BUAH_KLASIFIKASI.zip/tingkat2/buah9.jpg\n",
            "Error: Could not load image at /content/BUAH_KLASIFIKASI.zip/tingkat2/buah10.jpg\n",
            "Error: Could not load image at /content/BUAH_KLASIFIKASI.zip/tingkat2/buah11.jpg\n",
            "Error: Could not load image at /content/BUAH_KLASIFIKASI.zip/tingkat2/buah12.jpg\n",
            "Error: Could not load image at /content/BUAH_KLASIFIKASI.zip/tingkat2/buah13.jpg\n",
            "Error: Could not load image at /content/BUAH_KLASIFIKASI.zip/tingkat2/buah14.jpg\n",
            "Error: Could not load image at /content/BUAH_KLASIFIKASI.zip/tingkat2/buah15.jpg\n",
            "Error: Could not load image at /content/BUAH_KLASIFIKASI.zip/tingkat2/buah16.jpg\n",
            "Error: Could not load image at /content/BUAH_KLASIFIKASI.zip/tingkat2/buah17.jpg\n",
            "Error: Could not load image at /content/BUAH_KLASIFIKASI.zip/tingkat2/buah18.jpg\n",
            "Error: Could not load image at /content/BUAH_KLASIFIKASI.zip/tingkat2/buah19.jpg\n",
            "Error: Could not load image at /content/BUAH_KLASIFIKASI.zip/tingkat2/buah20.jpg\n",
            "Error: Could not load image at /content/BUAH_KLASIFIKASI.zip/tingkat3/buah1.jpg\n",
            "Error: Could not load image at /content/BUAH_KLASIFIKASI.zip/tingkat3/buah2.jpg\n",
            "Error: Could not load image at /content/BUAH_KLASIFIKASI.zip/tingkat3/buah3.jpg\n",
            "Error: Could not load image at /content/BUAH_KLASIFIKASI.zip/tingkat3/buah4.jpg\n",
            "Error: Could not load image at /content/BUAH_KLASIFIKASI.zip/tingkat3/buah5.jpg\n",
            "Error: Could not load image at /content/BUAH_KLASIFIKASI.zip/tingkat3/buah6.jpg\n",
            "Error: Could not load image at /content/BUAH_KLASIFIKASI.zip/tingkat3/buah7.jpg\n",
            "Error: Could not load image at /content/BUAH_KLASIFIKASI.zip/tingkat3/buah8.jpg\n",
            "Error: Could not load image at /content/BUAH_KLASIFIKASI.zip/tingkat3/buah9.jpg\n",
            "Error: Could not load image at /content/BUAH_KLASIFIKASI.zip/tingkat3/buah10.jpg\n",
            "Error: Could not load image at /content/BUAH_KLASIFIKASI.zip/tingkat3/buah11.jpg\n",
            "Error: Could not load image at /content/BUAH_KLASIFIKASI.zip/tingkat3/buah12.jpg\n",
            "Error: Could not load image at /content/BUAH_KLASIFIKASI.zip/tingkat3/buah13.jpg\n",
            "Error: Could not load image at /content/BUAH_KLASIFIKASI.zip/tingkat3/buah14.jpg\n",
            "Error: Could not load image at /content/BUAH_KLASIFIKASI.zip/tingkat3/buah15.jpg\n",
            "Error: Could not load image at /content/BUAH_KLASIFIKASI.zip/tingkat3/buah16.jpg\n",
            "Error: Could not load image at /content/BUAH_KLASIFIKASI.zip/tingkat3/buah17.jpg\n",
            "Error: Could not load image at /content/BUAH_KLASIFIKASI.zip/tingkat3/buah18.jpg\n",
            "Error: Could not load image at /content/BUAH_KLASIFIKASI.zip/tingkat3/buah19.jpg\n",
            "Error: Could not load image at /content/BUAH_KLASIFIKASI.zip/tingkat3/buah20.jpg\n",
            "Error: Could not load image at /content/BUAH_KLASIFIKASI.zip/tingkat4/buah1.jpg\n",
            "Error: Could not load image at /content/BUAH_KLASIFIKASI.zip/tingkat4/buah2.jpg\n",
            "Error: Could not load image at /content/BUAH_KLASIFIKASI.zip/tingkat4/buah3.jpg\n",
            "Error: Could not load image at /content/BUAH_KLASIFIKASI.zip/tingkat4/buah4.jpg\n",
            "Error: Could not load image at /content/BUAH_KLASIFIKASI.zip/tingkat4/buah5.jpg\n",
            "Error: Could not load image at /content/BUAH_KLASIFIKASI.zip/tingkat4/buah6.jpg\n",
            "Error: Could not load image at /content/BUAH_KLASIFIKASI.zip/tingkat4/buah7.jpg\n",
            "Error: Could not load image at /content/BUAH_KLASIFIKASI.zip/tingkat4/buah8.jpg\n",
            "Error: Could not load image at /content/BUAH_KLASIFIKASI.zip/tingkat4/buah9.jpg\n",
            "Error: Could not load image at /content/BUAH_KLASIFIKASI.zip/tingkat4/buah10.jpg\n",
            "Error: Could not load image at /content/BUAH_KLASIFIKASI.zip/tingkat4/buah11.jpg\n",
            "Error: Could not load image at /content/BUAH_KLASIFIKASI.zip/tingkat4/buah12.jpg\n",
            "Error: Could not load image at /content/BUAH_KLASIFIKASI.zip/tingkat4/buah13.jpg\n",
            "Error: Could not load image at /content/BUAH_KLASIFIKASI.zip/tingkat4/buah14.jpg\n",
            "Error: Could not load image at /content/BUAH_KLASIFIKASI.zip/tingkat4/buah15.jpg\n",
            "Error: Could not load image at /content/BUAH_KLASIFIKASI.zip/tingkat4/buah16.jpg\n",
            "Error: Could not load image at /content/BUAH_KLASIFIKASI.zip/tingkat4/buah17.jpg\n",
            "Error: Could not load image at /content/BUAH_KLASIFIKASI.zip/tingkat4/buah18.jpg\n",
            "Error: Could not load image at /content/BUAH_KLASIFIKASI.zip/tingkat4/buah19.jpg\n",
            "Error: Could not load image at /content/BUAH_KLASIFIKASI.zip/tingkat4/buah20.jpg\n",
            "Error: Could not load image at /content/BUAH_KLASIFIKASI.zip/tingkat5/buah1.jpg\n",
            "Error: Could not load image at /content/BUAH_KLASIFIKASI.zip/tingkat5/buah2.jpg\n",
            "Error: Could not load image at /content/BUAH_KLASIFIKASI.zip/tingkat5/buah3.jpg\n",
            "Error: Could not load image at /content/BUAH_KLASIFIKASI.zip/tingkat5/buah4.jpg\n",
            "Error: Could not load image at /content/BUAH_KLASIFIKASI.zip/tingkat5/buah5.jpg\n",
            "Error: Could not load image at /content/BUAH_KLASIFIKASI.zip/tingkat5/buah6.jpg\n",
            "Error: Could not load image at /content/BUAH_KLASIFIKASI.zip/tingkat5/buah7.jpg\n",
            "Error: Could not load image at /content/BUAH_KLASIFIKASI.zip/tingkat5/buah8.jpg\n",
            "Error: Could not load image at /content/BUAH_KLASIFIKASI.zip/tingkat5/buah9.jpg\n",
            "Error: Could not load image at /content/BUAH_KLASIFIKASI.zip/tingkat5/buah10.jpg\n",
            "Error: Could not load image at /content/BUAH_KLASIFIKASI.zip/tingkat5/buah11.jpg\n",
            "Error: Could not load image at /content/BUAH_KLASIFIKASI.zip/tingkat5/buah12.jpg\n",
            "Error: Could not load image at /content/BUAH_KLASIFIKASI.zip/tingkat5/buah13.jpg\n",
            "Error: Could not load image at /content/BUAH_KLASIFIKASI.zip/tingkat5/buah14.jpg\n",
            "Error: Could not load image at /content/BUAH_KLASIFIKASI.zip/tingkat5/buah15.jpg\n",
            "Error: Could not load image at /content/BUAH_KLASIFIKASI.zip/tingkat5/buah16.jpg\n",
            "Error: Could not load image at /content/BUAH_KLASIFIKASI.zip/tingkat5/buah17.jpg\n",
            "Error: Could not load image at /content/BUAH_KLASIFIKASI.zip/tingkat5/buah18.jpg\n",
            "Error: Could not load image at /content/BUAH_KLASIFIKASI.zip/tingkat5/buah19.jpg\n",
            "Error: Could not load image at /content/BUAH_KLASIFIKASI.zip/tingkat5/buah20.jpg\n"
          ]
        }
      ]
    },
    {
      "cell_type": "code",
      "source": [
        "# Membagi dataset menjadi data latih dan data uji\n",
        "X_train, X_test, y_train, y_test = split_dataset(images, labels)"
      ],
      "metadata": {
        "id": "cQVyH6-Gy_xf",
        "colab": {
          "base_uri": "https://localhost:8080/",
          "height": 319
        },
        "outputId": "2d6d0f40-f454-4714-b2c0-1a5e6eb5a98f"
      },
      "execution_count": 50,
      "outputs": [
        {
          "output_type": "error",
          "ename": "ValueError",
          "evalue": "With n_samples=0, test_size=0.2 and train_size=None, the resulting train set will be empty. Adjust any of the aforementioned parameters.",
          "traceback": [
            "\u001b[0;31m---------------------------------------------------------------------------\u001b[0m",
            "\u001b[0;31mValueError\u001b[0m                                Traceback (most recent call last)",
            "\u001b[0;32m<ipython-input-50-77e63e0f05e3>\u001b[0m in \u001b[0;36m<cell line: 2>\u001b[0;34m()\u001b[0m\n\u001b[1;32m      1\u001b[0m \u001b[0;31m# Membagi dataset menjadi data latih dan data uji\u001b[0m\u001b[0;34m\u001b[0m\u001b[0;34m\u001b[0m\u001b[0m\n\u001b[0;32m----> 2\u001b[0;31m \u001b[0mX_train\u001b[0m\u001b[0;34m,\u001b[0m \u001b[0mX_test\u001b[0m\u001b[0;34m,\u001b[0m \u001b[0my_train\u001b[0m\u001b[0;34m,\u001b[0m \u001b[0my_test\u001b[0m \u001b[0;34m=\u001b[0m \u001b[0msplit_dataset\u001b[0m\u001b[0;34m(\u001b[0m\u001b[0mimages\u001b[0m\u001b[0;34m,\u001b[0m \u001b[0mlabels\u001b[0m\u001b[0;34m)\u001b[0m\u001b[0;34m\u001b[0m\u001b[0;34m\u001b[0m\u001b[0m\n\u001b[0m",
            "\u001b[0;32m<ipython-input-45-35621724e10b>\u001b[0m in \u001b[0;36msplit_dataset\u001b[0;34m(images, labels)\u001b[0m\n\u001b[1;32m      1\u001b[0m \u001b[0;32mdef\u001b[0m \u001b[0msplit_dataset\u001b[0m\u001b[0;34m(\u001b[0m\u001b[0mimages\u001b[0m\u001b[0;34m,\u001b[0m \u001b[0mlabels\u001b[0m\u001b[0;34m)\u001b[0m\u001b[0;34m:\u001b[0m\u001b[0;34m\u001b[0m\u001b[0;34m\u001b[0m\u001b[0m\n\u001b[0;32m----> 2\u001b[0;31m     \u001b[0mX_train\u001b[0m\u001b[0;34m,\u001b[0m \u001b[0mX_test\u001b[0m\u001b[0;34m,\u001b[0m \u001b[0my_train\u001b[0m\u001b[0;34m,\u001b[0m \u001b[0my_test\u001b[0m \u001b[0;34m=\u001b[0m \u001b[0mtrain_test_split\u001b[0m\u001b[0;34m(\u001b[0m\u001b[0mimages\u001b[0m\u001b[0;34m,\u001b[0m \u001b[0mlabels\u001b[0m\u001b[0;34m,\u001b[0m \u001b[0mtest_size\u001b[0m\u001b[0;34m=\u001b[0m\u001b[0;36m0.2\u001b[0m\u001b[0;34m,\u001b[0m \u001b[0mrandom_state\u001b[0m\u001b[0;34m=\u001b[0m\u001b[0;36m42\u001b[0m\u001b[0;34m)\u001b[0m\u001b[0;34m\u001b[0m\u001b[0;34m\u001b[0m\u001b[0m\n\u001b[0m\u001b[1;32m      3\u001b[0m     \u001b[0;32mreturn\u001b[0m \u001b[0mX_train\u001b[0m\u001b[0;34m,\u001b[0m \u001b[0mX_test\u001b[0m\u001b[0;34m,\u001b[0m \u001b[0my_train\u001b[0m\u001b[0;34m,\u001b[0m \u001b[0my_test\u001b[0m\u001b[0;34m\u001b[0m\u001b[0;34m\u001b[0m\u001b[0m\n",
            "\u001b[0;32m/usr/local/lib/python3.10/dist-packages/sklearn/utils/_param_validation.py\u001b[0m in \u001b[0;36mwrapper\u001b[0;34m(*args, **kwargs)\u001b[0m\n\u001b[1;32m    214\u001b[0m                     )\n\u001b[1;32m    215\u001b[0m                 ):\n\u001b[0;32m--> 216\u001b[0;31m                     \u001b[0;32mreturn\u001b[0m \u001b[0mfunc\u001b[0m\u001b[0;34m(\u001b[0m\u001b[0;34m*\u001b[0m\u001b[0margs\u001b[0m\u001b[0;34m,\u001b[0m \u001b[0;34m**\u001b[0m\u001b[0mkwargs\u001b[0m\u001b[0;34m)\u001b[0m\u001b[0;34m\u001b[0m\u001b[0;34m\u001b[0m\u001b[0m\n\u001b[0m\u001b[1;32m    217\u001b[0m             \u001b[0;32mexcept\u001b[0m \u001b[0mInvalidParameterError\u001b[0m \u001b[0;32mas\u001b[0m \u001b[0me\u001b[0m\u001b[0;34m:\u001b[0m\u001b[0;34m\u001b[0m\u001b[0;34m\u001b[0m\u001b[0m\n\u001b[1;32m    218\u001b[0m                 \u001b[0;31m# When the function is just a wrapper around an estimator, we allow\u001b[0m\u001b[0;34m\u001b[0m\u001b[0;34m\u001b[0m\u001b[0m\n",
            "\u001b[0;32m/usr/local/lib/python3.10/dist-packages/sklearn/model_selection/_split.py\u001b[0m in \u001b[0;36mtrain_test_split\u001b[0;34m(test_size, train_size, random_state, shuffle, stratify, *arrays)\u001b[0m\n\u001b[1;32m   2849\u001b[0m \u001b[0;34m\u001b[0m\u001b[0m\n\u001b[1;32m   2850\u001b[0m     \u001b[0mn_samples\u001b[0m \u001b[0;34m=\u001b[0m \u001b[0m_num_samples\u001b[0m\u001b[0;34m(\u001b[0m\u001b[0marrays\u001b[0m\u001b[0;34m[\u001b[0m\u001b[0;36m0\u001b[0m\u001b[0;34m]\u001b[0m\u001b[0;34m)\u001b[0m\u001b[0;34m\u001b[0m\u001b[0;34m\u001b[0m\u001b[0m\n\u001b[0;32m-> 2851\u001b[0;31m     n_train, n_test = _validate_shuffle_split(\n\u001b[0m\u001b[1;32m   2852\u001b[0m         \u001b[0mn_samples\u001b[0m\u001b[0;34m,\u001b[0m \u001b[0mtest_size\u001b[0m\u001b[0;34m,\u001b[0m \u001b[0mtrain_size\u001b[0m\u001b[0;34m,\u001b[0m \u001b[0mdefault_test_size\u001b[0m\u001b[0;34m=\u001b[0m\u001b[0;36m0.25\u001b[0m\u001b[0;34m\u001b[0m\u001b[0;34m\u001b[0m\u001b[0m\n\u001b[1;32m   2853\u001b[0m     )\n",
            "\u001b[0;32m/usr/local/lib/python3.10/dist-packages/sklearn/model_selection/_split.py\u001b[0m in \u001b[0;36m_validate_shuffle_split\u001b[0;34m(n_samples, test_size, train_size, default_test_size)\u001b[0m\n\u001b[1;32m   2479\u001b[0m \u001b[0;34m\u001b[0m\u001b[0m\n\u001b[1;32m   2480\u001b[0m     \u001b[0;32mif\u001b[0m \u001b[0mn_train\u001b[0m \u001b[0;34m==\u001b[0m \u001b[0;36m0\u001b[0m\u001b[0;34m:\u001b[0m\u001b[0;34m\u001b[0m\u001b[0;34m\u001b[0m\u001b[0m\n\u001b[0;32m-> 2481\u001b[0;31m         raise ValueError(\n\u001b[0m\u001b[1;32m   2482\u001b[0m             \u001b[0;34m\"With n_samples={}, test_size={} and train_size={}, the \"\u001b[0m\u001b[0;34m\u001b[0m\u001b[0;34m\u001b[0m\u001b[0m\n\u001b[1;32m   2483\u001b[0m             \u001b[0;34m\"resulting train set will be empty. Adjust any of the \"\u001b[0m\u001b[0;34m\u001b[0m\u001b[0;34m\u001b[0m\u001b[0m\n",
            "\u001b[0;31mValueError\u001b[0m: With n_samples=0, test_size=0.2 and train_size=None, the resulting train set will be empty. Adjust any of the aforementioned parameters."
          ]
        }
      ]
    },
    {
      "cell_type": "code",
      "source": [
        "# Melatih model klasifikasi\n",
        "model = train_model(X_train, y_train)"
      ],
      "metadata": {
        "id": "4l-tiO2gzB93"
      },
      "execution_count": null,
      "outputs": []
    },
    {
      "cell_type": "code",
      "source": [
        "# Evaluasi model dan memperoleh hasil\n",
        "accuracy, precision, recall, confusion, y_pred = evaluate_model(model, X_test, y_test)"
      ],
      "metadata": {
        "id": "epGT83JAzDlO"
      },
      "execution_count": null,
      "outputs": []
    },
    {
      "cell_type": "code",
      "source": [
        "# Menampilkan histogram metrik evaluasi dan hasil tingkat kematangan buah\n",
        "plot_histogram(accuracy, precision, recall, y_pred)"
      ],
      "metadata": {
        "id": "zagLUhdDzGHD"
      },
      "execution_count": null,
      "outputs": []
    }
  ]
}